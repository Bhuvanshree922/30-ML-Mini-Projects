{
 "cells": [
  {
   "cell_type": "code",
   "execution_count": 1,
   "id": "4124ecc5-1ab4-45ad-a103-87264efa4841",
   "metadata": {},
   "outputs": [],
   "source": [
    "import kagglehub"
   ]
  },
  {
   "cell_type": "code",
   "execution_count": 4,
   "id": "7d06751f-7c66-4ff1-9349-b84e587529f6",
   "metadata": {},
   "outputs": [
    {
     "name": "stdout",
     "output_type": "stream",
     "text": [
      "/Users/bhuvanshree/.cache/kagglehub/datasets/vinayaks0n1/ipl-2025/versions/1\n"
     ]
    }
   ],
   "source": [
    "path = kagglehub.dataset_download(\"vinayaks0n1/ipl-2025\")\n",
    "print(path)"
   ]
  },
  {
   "cell_type": "code",
   "execution_count": 6,
   "id": "492c01e6-d129-4ca9-a32d-9ce34db8acef",
   "metadata": {},
   "outputs": [
    {
     "name": "stdout",
     "output_type": "stream",
     "text": [
      "Collecting sweetviz\n",
      "  Downloading sweetviz-2.3.1-py3-none-any.whl.metadata (24 kB)\n",
      "Requirement already satisfied: pandas!=1.0.0,!=1.0.1,!=1.0.2,>=0.25.3 in /opt/anaconda3/lib/python3.12/site-packages (from sweetviz) (2.2.2)\n",
      "Requirement already satisfied: numpy>=1.16.0 in /opt/anaconda3/lib/python3.12/site-packages (from sweetviz) (1.26.4)\n",
      "Requirement already satisfied: matplotlib>=3.1.3 in /opt/anaconda3/lib/python3.12/site-packages (from sweetviz) (3.10.1)\n",
      "Requirement already satisfied: tqdm>=4.43.0 in /opt/anaconda3/lib/python3.12/site-packages (from sweetviz) (4.66.5)\n",
      "Requirement already satisfied: scipy>=1.3.2 in /opt/anaconda3/lib/python3.12/site-packages (from sweetviz) (1.13.1)\n",
      "Requirement already satisfied: jinja2>=2.11.1 in /opt/anaconda3/lib/python3.12/site-packages (from sweetviz) (3.1.4)\n",
      "Collecting importlib-resources>=1.2.0 (from sweetviz)\n",
      "  Downloading importlib_resources-6.5.2-py3-none-any.whl.metadata (3.9 kB)\n",
      "Requirement already satisfied: MarkupSafe>=2.0 in /opt/anaconda3/lib/python3.12/site-packages (from jinja2>=2.11.1->sweetviz) (2.1.3)\n",
      "Requirement already satisfied: contourpy>=1.0.1 in /opt/anaconda3/lib/python3.12/site-packages (from matplotlib>=3.1.3->sweetviz) (1.2.0)\n",
      "Requirement already satisfied: cycler>=0.10 in /opt/anaconda3/lib/python3.12/site-packages (from matplotlib>=3.1.3->sweetviz) (0.11.0)\n",
      "Requirement already satisfied: fonttools>=4.22.0 in /opt/anaconda3/lib/python3.12/site-packages (from matplotlib>=3.1.3->sweetviz) (4.51.0)\n",
      "Requirement already satisfied: kiwisolver>=1.3.1 in /opt/anaconda3/lib/python3.12/site-packages (from matplotlib>=3.1.3->sweetviz) (1.4.4)\n",
      "Requirement already satisfied: packaging>=20.0 in /opt/anaconda3/lib/python3.12/site-packages (from matplotlib>=3.1.3->sweetviz) (24.1)\n",
      "Requirement already satisfied: pillow>=8 in /opt/anaconda3/lib/python3.12/site-packages (from matplotlib>=3.1.3->sweetviz) (10.4.0)\n",
      "Requirement already satisfied: pyparsing>=2.3.1 in /opt/anaconda3/lib/python3.12/site-packages (from matplotlib>=3.1.3->sweetviz) (3.1.2)\n",
      "Requirement already satisfied: python-dateutil>=2.7 in /opt/anaconda3/lib/python3.12/site-packages (from matplotlib>=3.1.3->sweetviz) (2.9.0.post0)\n",
      "Requirement already satisfied: pytz>=2020.1 in /opt/anaconda3/lib/python3.12/site-packages (from pandas!=1.0.0,!=1.0.1,!=1.0.2,>=0.25.3->sweetviz) (2024.1)\n",
      "Requirement already satisfied: tzdata>=2022.7 in /opt/anaconda3/lib/python3.12/site-packages (from pandas!=1.0.0,!=1.0.1,!=1.0.2,>=0.25.3->sweetviz) (2023.3)\n",
      "Requirement already satisfied: six>=1.5 in /opt/anaconda3/lib/python3.12/site-packages (from python-dateutil>=2.7->matplotlib>=3.1.3->sweetviz) (1.16.0)\n",
      "Downloading sweetviz-2.3.1-py3-none-any.whl (15.1 MB)\n",
      "\u001b[2K   \u001b[90m━━━━━━━━━━━━━━━━━━━━━━━━━━━━━━━━━━━━━━━━\u001b[0m \u001b[32m15.1/15.1 MB\u001b[0m \u001b[31m701.5 kB/s\u001b[0m eta \u001b[36m0:00:00\u001b[0m00:01\u001b[0m00:01\u001b[0m\n",
      "\u001b[?25hDownloading importlib_resources-6.5.2-py3-none-any.whl (37 kB)\n",
      "Installing collected packages: importlib-resources, sweetviz\n",
      "Successfully installed importlib-resources-6.5.2 sweetviz-2.3.1\n",
      "Note: you may need to restart the kernel to use updated packages.\n"
     ]
    }
   ],
   "source": [
    "pip install sweetviz"
   ]
  },
  {
   "cell_type": "code",
   "execution_count": 12,
   "id": "d4643667-a37e-4149-9498-62cf97b50584",
   "metadata": {},
   "outputs": [],
   "source": [
    "import sweetviz as sv\n",
    "import pandas as pd\n",
    "from sklearn.model_selection import train_test_split"
   ]
  },
  {
   "cell_type": "code",
   "execution_count": 10,
   "id": "935d3752-47f3-46f4-9015-fed4b6f3fd7d",
   "metadata": {
    "scrolled": true
   },
   "outputs": [
    {
     "name": "stdout",
     "output_type": "stream",
     "text": [
      "<class 'pandas.core.frame.DataFrame'>\n",
      "RangeIndex: 156 entries, 0 to 155\n",
      "Data columns (total 14 columns):\n",
      " #   Column       Non-Null Count  Dtype  \n",
      "---  ------       --------------  -----  \n",
      " 0   Player Name  156 non-null    object \n",
      " 1   Team         156 non-null    object \n",
      " 2   Runs         156 non-null    int64  \n",
      " 3   Matches      156 non-null    int64  \n",
      " 4   Inn          156 non-null    int64  \n",
      " 5   No           156 non-null    int64  \n",
      " 6   HS           156 non-null    object \n",
      " 7   AVG          156 non-null    object \n",
      " 8   BF           156 non-null    int64  \n",
      " 9   SR           156 non-null    float64\n",
      " 10  100s         156 non-null    int64  \n",
      " 11  50s          156 non-null    int64  \n",
      " 12  4s           156 non-null    int64  \n",
      " 13  6s           156 non-null    int64  \n",
      "dtypes: float64(1), int64(9), object(4)\n",
      "memory usage: 17.2+ KB\n"
     ]
    }
   ],
   "source": [
    "df = pd.read_csv('dataset/IPL2025Batters.csv')\n",
    "df.info()"
   ]
  },
  {
   "cell_type": "code",
   "execution_count": 14,
   "id": "c187df6c-08b1-4080-bf9a-a7430fe22cdf",
   "metadata": {},
   "outputs": [],
   "source": [
    "X_train,X_test =  train_test_split(df,test_size=0.3,random_state=42)"
   ]
  },
  {
   "cell_type": "code",
   "execution_count": 18,
   "id": "4268e8ec-3ed4-412d-85fb-ab2422138fcd",
   "metadata": {},
   "outputs": [
    {
     "data": {
      "application/vnd.jupyter.widget-view+json": {
       "model_id": "7f58c33c2fb44635ad01ddedd81808b0",
       "version_major": 2,
       "version_minor": 0
      },
      "text/plain": [
       "                                             |                                                                …"
      ]
     },
     "metadata": {},
     "output_type": "display_data"
    }
   ],
   "source": [
    "my_report = sv.analyze([X_train, \"Train\"],target_feat='SR')"
   ]
  },
  {
   "cell_type": "code",
   "execution_count": 20,
   "id": "6b4a930c-4765-47e8-8357-ba15e1933b73",
   "metadata": {},
   "outputs": [
    {
     "name": "stdout",
     "output_type": "stream",
     "text": [
      "Report Report.html was generated! NOTEBOOK/COLAB USERS: the web browser MAY not pop up, regardless, the report IS saved in your notebook/colab files.\n"
     ]
    }
   ],
   "source": [
    "my_report.show_html('Report.html')"
   ]
  },
  {
   "cell_type": "code",
   "execution_count": 24,
   "id": "f5cd7209-dc98-47ef-9fb2-bc0e252b4e0c",
   "metadata": {},
   "outputs": [
    {
     "data": {
      "application/vnd.jupyter.widget-view+json": {
       "model_id": "760d2b352e744d4b96398f896853486d",
       "version_major": 2,
       "version_minor": 0
      },
      "text/plain": [
       "                                             |                                                                …"
      ]
     },
     "metadata": {},
     "output_type": "display_data"
    }
   ],
   "source": [
    "train_vs_test_report = sv.compare([X_train, \"Train\"], [X_test, \"Test\"], target_feat='SR')\n"
   ]
  },
  {
   "cell_type": "code",
   "execution_count": 26,
   "id": "da525e32-a5f0-40bf-a16d-48a4f1d732aa",
   "metadata": {},
   "outputs": [
    {
     "name": "stdout",
     "output_type": "stream",
     "text": [
      "Report train_test.html was generated! NOTEBOOK/COLAB USERS: the web browser MAY not pop up, regardless, the report IS saved in your notebook/colab files.\n"
     ]
    }
   ],
   "source": [
    "train_vs_test_report.show_html('train_test.html')"
   ]
  },
  {
   "cell_type": "code",
   "execution_count": 28,
   "id": "432c32ce-bb47-4873-ba9b-a29c627814f6",
   "metadata": {},
   "outputs": [
    {
     "data": {
      "application/vnd.jupyter.widget-view+json": {
       "model_id": "961fd593888b48898d5b51b90249ca08",
       "version_major": 2,
       "version_minor": 0
      },
      "text/plain": [
       "                                             |                                                                …"
      ]
     },
     "metadata": {},
     "output_type": "display_data"
    }
   ],
   "source": [
    "intra_report = sv.compare_intra(df, df[\"Runs\"] > 30, [\"value\", \"others\"])\n"
   ]
  },
  {
   "cell_type": "code",
   "execution_count": 30,
   "id": "56ded997-6497-4c69-b27e-6dfdd8b5a012",
   "metadata": {},
   "outputs": [
    {
     "name": "stdout",
     "output_type": "stream",
     "text": [
      "Report intra_report.html was generated! NOTEBOOK/COLAB USERS: the web browser MAY not pop up, regardless, the report IS saved in your notebook/colab files.\n"
     ]
    }
   ],
   "source": [
    "intra_report.show_html('intra_report.html')"
   ]
  }
 ],
 "metadata": {
  "kernelspec": {
   "display_name": "Python [conda env:base] *",
   "language": "python",
   "name": "conda-base-py"
  },
  "language_info": {
   "codemirror_mode": {
    "name": "ipython",
    "version": 3
   },
   "file_extension": ".py",
   "mimetype": "text/x-python",
   "name": "python",
   "nbconvert_exporter": "python",
   "pygments_lexer": "ipython3",
   "version": "3.12.7"
  }
 },
 "nbformat": 4,
 "nbformat_minor": 5
}
